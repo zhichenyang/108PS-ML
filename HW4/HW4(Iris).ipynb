{
 "cells": [
  {
   "cell_type": "code",
   "execution_count": 1,
   "metadata": {},
   "outputs": [
    {
     "name": "stdout",
     "output_type": "stream",
     "text": [
      "測試Accuracy 0.9736842105263158\n",
      "混淆矩陣 \n",
      " [[13  0  0]\n",
      " [ 0 16  0]\n",
      " [ 0  1  8]]\n",
      "預測Accuracy 0.9736842105263158\n",
      "              precision    recall  f1-score   support\n",
      "\n",
      "      Setosa       1.00      1.00      1.00        13\n",
      " Versicolour       0.94      1.00      0.97        16\n",
      "   Virginica       1.00      0.89      0.94         9\n",
      "\n",
      "    accuracy                           0.97        38\n",
      "   macro avg       0.98      0.96      0.97        38\n",
      "weighted avg       0.98      0.97      0.97        38\n",
      "\n",
      "AUC: 0.9693486590038314\n"
     ]
    }
   ],
   "source": [
    "%matplotlib inline\n",
    "import numpy as np\n",
    "from sklearn import tree\n",
    "import pandas as pd\n",
    "from sklearn.datasets import load_iris\n",
    "from sklearn.model_selection import train_test_split\n",
    "from sklearn import svm\n",
    "from sklearn import metrics\n",
    "\n",
    "#資料集載入的內容&資料集&目標集\n",
    "iris=load_iris()\n",
    "X = iris.data\n",
    "Y = iris.target\n",
    "\n",
    "##noisy\n",
    "target_dims = iris.data.shape\n",
    "noise = np.random.randn(target_dims[0],target_dims[1])\n",
    "\n",
    "##資料做伸縮加noisy\n",
    "multi =[np.random.randint(1,10),np.random.randint(1,10),np.random.randint(1,10),np.random.randint(1,10)]\n",
    "multi = np.diag(multi)\n",
    "#print(\"multi\\n\",multi)\n",
    "X1 = X.transpose()\n",
    "multi_target = multi.dot(X1).transpose()\n",
    "#print(\"multi_target\\n\",multi_target)\n",
    "noisy_target = multi_target + noise\n",
    "#print(\"noisy_target\\n\",noisy_target)\n",
    "\n",
    "#將資料分為測試&訓練兩類，並將測試集設為25%\n",
    "x_train, x_test,y_train, y_test = train_test_split(noisy_target,Y,test_size=0.25,random_state=0)\n",
    "\n",
    "#利用SVM帶入資料做訓練\n",
    "clf= svm.SVC(gamma='auto')\n",
    "clf.fit(x_train, y_train)\n",
    "\n",
    "#測試的準確度\n",
    "Accuracy=clf.score(x_test, y_test)\n",
    "print(\"測試Accuracy\",Accuracy)\n",
    "\n",
    "#將測試資料帶入做預測\n",
    "y_predict = clf.predict(x_test)\n",
    "target_names=['Setosa','Versicolour','Virginica']\n",
    "print (\"混淆矩陣\",'\\n',metrics.confusion_matrix(y_test,y_predict))\n",
    "print (\"預測Accuracy\",metrics.accuracy_score(y_test,y_predict))\n",
    "print(metrics.classification_report(y_test,y_predict,target_names=target_names))\n",
    "\n",
    "#畫出roc計算AUC\n",
    "fpr, tpr, thresholds = metrics.roc_curve(y_test, y_predict, pos_label=2)\n",
    "print(\"AUC:\",metrics.auc(fpr, tpr))\n"
   ]
  },
  {
   "cell_type": "code",
   "execution_count": null,
   "metadata": {},
   "outputs": [],
   "source": []
  },
  {
   "cell_type": "code",
   "execution_count": null,
   "metadata": {},
   "outputs": [],
   "source": []
  }
 ],
 "metadata": {
  "kernelspec": {
   "display_name": "Python 3",
   "language": "python",
   "name": "python3"
  },
  "language_info": {
   "codemirror_mode": {
    "name": "ipython",
    "version": 3
   },
   "file_extension": ".py",
   "mimetype": "text/x-python",
   "name": "python",
   "nbconvert_exporter": "python",
   "pygments_lexer": "ipython3",
   "version": "3.7.3"
  }
 },
 "nbformat": 4,
 "nbformat_minor": 4
}
