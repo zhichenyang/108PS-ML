{
 "cells": [
  {
   "cell_type": "code",
   "execution_count": 2,
   "metadata": {},
   "outputs": [
    {
     "name": "stdout",
     "output_type": "stream",
     "text": [
      "測試Accuracy 0.9736842105263158\n",
      "混淆矩陣 \n",
      " [[13  0  0]\n",
      " [ 0 15  1]\n",
      " [ 0  0  9]]\n",
      "預測Accuracy 0.9736842105263158\n",
      "              precision    recall  f1-score   support\n",
      "\n",
      "      Setosa       1.00      1.00      1.00        13\n",
      " Versicolour       1.00      0.94      0.97        16\n",
      "   Virginica       0.90      1.00      0.95         9\n",
      "\n",
      "    accuracy                           0.97        38\n",
      "   macro avg       0.97      0.98      0.97        38\n",
      "weighted avg       0.98      0.97      0.97        38\n",
      "\n",
      "AUC: 0.9827586206896552\n"
     ]
    }
   ],
   "source": [
    "%matplotlib inline\n",
    "import numpy as np\n",
    "from sklearn.datasets import load_iris\n",
    "from sklearn.model_selection import train_test_split\n",
    "from sklearn.svm import SVC\n",
    "from sklearn.metrics import *\n",
    "\n",
    "#資料集載入的內容&資料集&目標集\n",
    "iris=load_iris()\n",
    "X = iris.data\n",
    "Y = iris.target\n",
    "#print(iris.DESCR)\n",
    "\n",
    "#將資料分為測試&訓練兩類，並將測試集設為25%\n",
    "x_train, x_test,y_train, y_test = train_test_split(X,Y,test_size=0.25,random_state=0)\n",
    "\n",
    "#利用SVM帶入資料做訓練\n",
    "clf= SVC(gamma='auto')\n",
    "clf.fit(x_train, y_train)\n",
    "\n",
    "#測試的準確度\n",
    "Accuracy=clf.score(x_test, y_test)\n",
    "print(\"測試Accuracy\",Accuracy)\n",
    "\n",
    "#將測試資料帶入做預測\n",
    "y_predict = clf.predict(x_test)\n",
    "target_names=['Setosa','Versicolour','Virginica']\n",
    "print (\"混淆矩陣\",'\\n',confusion_matrix(y_test,y_predict))\n",
    "print (\"預測Accuracy\",accuracy_score(y_test,y_predict))\n",
    "print(classification_report(y_test,y_predict,target_names=target_names))\n",
    "\n",
    "\n",
    "import warnings\n",
    "warnings.simplefilter(action='ignore', category=FutureWarning)\n",
    "#畫出roc計算AUC\n",
    "fpr, tpr, thresholds = roc_curve(y_test, y_predict, pos_label=2)\n",
    "print(\"AUC:\",auc(fpr, tpr))\n"
   ]
  },
  {
   "cell_type": "code",
   "execution_count": null,
   "metadata": {},
   "outputs": [],
   "source": []
  },
  {
   "cell_type": "code",
   "execution_count": null,
   "metadata": {},
   "outputs": [],
   "source": []
  }
 ],
 "metadata": {
  "kernelspec": {
   "display_name": "Python 3",
   "language": "python",
   "name": "python3"
  },
  "language_info": {
   "codemirror_mode": {
    "name": "ipython",
    "version": 3
   },
   "file_extension": ".py",
   "mimetype": "text/x-python",
   "name": "python",
   "nbconvert_exporter": "python",
   "pygments_lexer": "ipython3",
   "version": "3.7.3"
  }
 },
 "nbformat": 4,
 "nbformat_minor": 4
}
